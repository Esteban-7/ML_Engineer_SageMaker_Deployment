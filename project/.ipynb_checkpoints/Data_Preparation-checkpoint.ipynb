{
 "cells": [
  {
   "cell_type": "markdown",
   "id": "37fc6e58",
   "metadata": {},
   "source": [
    "First all relevant packages are imported to the notebook"
   ]
  },
  {
   "cell_type": "code",
   "execution_count": 4,
   "id": "d014f7d2",
   "metadata": {},
   "outputs": [],
   "source": [
    "import pandas as pd\n",
    "import numpy as np"
   ]
  },
  {
   "cell_type": "code",
   "execution_count": 5,
   "id": "f8818f30",
   "metadata": {},
   "outputs": [],
   "source": [
    "import sklearn\n",
    "import seaborn as sns"
   ]
  },
  {
   "cell_type": "code",
   "execution_count": 6,
   "id": "f6ebe6af",
   "metadata": {},
   "outputs": [],
   "source": [
    "from sklearn.model_selection import train_test_split\n",
    "from sklearn.preprocessing import StandardScaler"
   ]
  },
  {
   "cell_type": "markdown",
   "id": "d6c49955",
   "metadata": {},
   "source": [
    "Next, the dataset is loaded and a quick preview is shown"
   ]
  },
  {
   "cell_type": "code",
   "execution_count": 7,
   "id": "25aaf5fa",
   "metadata": {},
   "outputs": [],
   "source": [
    "df = pd.read_csv(\"data/train.csv\")"
   ]
  },
  {
   "cell_type": "code",
   "execution_count": 8,
   "id": "009eba27",
   "metadata": {},
   "outputs": [
    {
     "data": {
      "text/html": [
       "<div>\n",
       "<style scoped>\n",
       "    .dataframe tbody tr th:only-of-type {\n",
       "        vertical-align: middle;\n",
       "    }\n",
       "\n",
       "    .dataframe tbody tr th {\n",
       "        vertical-align: top;\n",
       "    }\n",
       "\n",
       "    .dataframe thead th {\n",
       "        text-align: right;\n",
       "    }\n",
       "</style>\n",
       "<table border=\"1\" class=\"dataframe\">\n",
       "  <thead>\n",
       "    <tr style=\"text-align: right;\">\n",
       "      <th></th>\n",
       "      <th>id</th>\n",
       "      <th>Gender</th>\n",
       "      <th>Age</th>\n",
       "      <th>Driving_License</th>\n",
       "      <th>Region_Code</th>\n",
       "      <th>Previously_Insured</th>\n",
       "      <th>Vehicle_Age</th>\n",
       "      <th>Vehicle_Damage</th>\n",
       "      <th>Annual_Premium</th>\n",
       "      <th>Policy_Sales_Channel</th>\n",
       "      <th>Vintage</th>\n",
       "      <th>Response</th>\n",
       "    </tr>\n",
       "  </thead>\n",
       "  <tbody>\n",
       "    <tr>\n",
       "      <th>0</th>\n",
       "      <td>1</td>\n",
       "      <td>Male</td>\n",
       "      <td>44</td>\n",
       "      <td>1</td>\n",
       "      <td>28.0</td>\n",
       "      <td>0</td>\n",
       "      <td>&gt; 2 Years</td>\n",
       "      <td>Yes</td>\n",
       "      <td>40454.0</td>\n",
       "      <td>26.0</td>\n",
       "      <td>217</td>\n",
       "      <td>1</td>\n",
       "    </tr>\n",
       "    <tr>\n",
       "      <th>1</th>\n",
       "      <td>2</td>\n",
       "      <td>Male</td>\n",
       "      <td>76</td>\n",
       "      <td>1</td>\n",
       "      <td>3.0</td>\n",
       "      <td>0</td>\n",
       "      <td>1-2 Year</td>\n",
       "      <td>No</td>\n",
       "      <td>33536.0</td>\n",
       "      <td>26.0</td>\n",
       "      <td>183</td>\n",
       "      <td>0</td>\n",
       "    </tr>\n",
       "    <tr>\n",
       "      <th>2</th>\n",
       "      <td>3</td>\n",
       "      <td>Male</td>\n",
       "      <td>47</td>\n",
       "      <td>1</td>\n",
       "      <td>28.0</td>\n",
       "      <td>0</td>\n",
       "      <td>&gt; 2 Years</td>\n",
       "      <td>Yes</td>\n",
       "      <td>38294.0</td>\n",
       "      <td>26.0</td>\n",
       "      <td>27</td>\n",
       "      <td>1</td>\n",
       "    </tr>\n",
       "    <tr>\n",
       "      <th>3</th>\n",
       "      <td>4</td>\n",
       "      <td>Male</td>\n",
       "      <td>21</td>\n",
       "      <td>1</td>\n",
       "      <td>11.0</td>\n",
       "      <td>1</td>\n",
       "      <td>&lt; 1 Year</td>\n",
       "      <td>No</td>\n",
       "      <td>28619.0</td>\n",
       "      <td>152.0</td>\n",
       "      <td>203</td>\n",
       "      <td>0</td>\n",
       "    </tr>\n",
       "    <tr>\n",
       "      <th>4</th>\n",
       "      <td>5</td>\n",
       "      <td>Female</td>\n",
       "      <td>29</td>\n",
       "      <td>1</td>\n",
       "      <td>41.0</td>\n",
       "      <td>1</td>\n",
       "      <td>&lt; 1 Year</td>\n",
       "      <td>No</td>\n",
       "      <td>27496.0</td>\n",
       "      <td>152.0</td>\n",
       "      <td>39</td>\n",
       "      <td>0</td>\n",
       "    </tr>\n",
       "  </tbody>\n",
       "</table>\n",
       "</div>"
      ],
      "text/plain": [
       "   id  Gender  Age  Driving_License  Region_Code  Previously_Insured  \\\n",
       "0   1    Male   44                1         28.0                   0   \n",
       "1   2    Male   76                1          3.0                   0   \n",
       "2   3    Male   47                1         28.0                   0   \n",
       "3   4    Male   21                1         11.0                   1   \n",
       "4   5  Female   29                1         41.0                   1   \n",
       "\n",
       "  Vehicle_Age Vehicle_Damage  Annual_Premium  Policy_Sales_Channel  Vintage  \\\n",
       "0   > 2 Years            Yes         40454.0                  26.0      217   \n",
       "1    1-2 Year             No         33536.0                  26.0      183   \n",
       "2   > 2 Years            Yes         38294.0                  26.0       27   \n",
       "3    < 1 Year             No         28619.0                 152.0      203   \n",
       "4    < 1 Year             No         27496.0                 152.0       39   \n",
       "\n",
       "   Response  \n",
       "0         1  \n",
       "1         0  \n",
       "2         1  \n",
       "3         0  \n",
       "4         0  "
      ]
     },
     "execution_count": 8,
     "metadata": {},
     "output_type": "execute_result"
    }
   ],
   "source": [
    "df.head()"
   ]
  },
  {
   "cell_type": "code",
   "execution_count": 9,
   "id": "90077e87",
   "metadata": {},
   "outputs": [
    {
     "name": "stderr",
     "output_type": "stream",
     "text": [
      "/home/ec2-user/anaconda3/envs/python3/lib/python3.6/site-packages/ipykernel/__main__.py:9: SettingWithCopyWarning: \n",
      "A value is trying to be set on a copy of a slice from a DataFrame\n",
      "\n",
      "See the caveats in the documentation: https://pandas.pydata.org/pandas-docs/stable/user_guide/indexing.html#returning-a-view-versus-a-copy\n",
      "/home/ec2-user/anaconda3/envs/python3/lib/python3.6/site-packages/ipykernel/__main__.py:10: SettingWithCopyWarning: \n",
      "A value is trying to be set on a copy of a slice from a DataFrame\n",
      "\n",
      "See the caveats in the documentation: https://pandas.pydata.org/pandas-docs/stable/user_guide/indexing.html#returning-a-view-versus-a-copy\n",
      "/home/ec2-user/anaconda3/envs/python3/lib/python3.6/site-packages/ipykernel/__main__.py:11: SettingWithCopyWarning: \n",
      "A value is trying to be set on a copy of a slice from a DataFrame\n",
      "\n",
      "See the caveats in the documentation: https://pandas.pydata.org/pandas-docs/stable/user_guide/indexing.html#returning-a-view-versus-a-copy\n",
      "/home/ec2-user/anaconda3/envs/python3/lib/python3.6/site-packages/ipykernel/__main__.py:12: SettingWithCopyWarning: \n",
      "A value is trying to be set on a copy of a slice from a DataFrame\n",
      "\n",
      "See the caveats in the documentation: https://pandas.pydata.org/pandas-docs/stable/user_guide/indexing.html#returning-a-view-versus-a-copy\n"
     ]
    }
   ],
   "source": [
    "#For the categorical values that needed tranformation as explained in the report a transformation is done\n",
    "#using the map function.\n",
    "df.Gender = df.Gender.map({\"Male\":0,\"Female\":1})\n",
    "df.Vehicle_Age = df.Vehicle_Age.map({\"< 1 Year\":0,\"1-2 Year\":1,\"> 2 Years\":2})\n",
    "df.Vehicle_Damage = df.Vehicle_Damage.map({\"No\":0,\"Yes\":1})\n",
    "\n",
    "#For the Region Code and Policy Sales Channel the tranformation is done by assigning the specifical values \n",
    "#according to a certain condition\n",
    "df.Region_Code[df.Region_Code != 28.0] = 0\n",
    "df.Region_Code[df.Region_Code == 28.0] = 1\n",
    "df.Policy_Sales_Channel[df.Policy_Sales_Channel != 152.0] = 0\n",
    "df.Policy_Sales_Channel[df.Policy_Sales_Channel == 152.0] = 1"
   ]
  },
  {
   "cell_type": "code",
   "execution_count": 10,
   "id": "c5336e3a",
   "metadata": {},
   "outputs": [
    {
     "data": {
      "text/plain": [
       "(381109, 12)"
      ]
     },
     "execution_count": 10,
     "metadata": {},
     "output_type": "execute_result"
    }
   ],
   "source": [
    "#The shape method is called so that we can confirm the number of observations and variables\n",
    "#present in the dataset\n",
    "df.shape"
   ]
  },
  {
   "cell_type": "code",
   "execution_count": 11,
   "id": "28603a18",
   "metadata": {},
   "outputs": [],
   "source": [
    "#According to the report and the data ecploration it was found that the Annual Premium variable contained \n",
    "#outliers values for 1% of the customers. This is calculated by the quantile method. \n",
    "q = df.Annual_Premium.quantile(0.99)\n",
    "\n",
    "#Having identified the outliers, they are removed\n",
    "df = df[df.Annual_Premium < q]"
   ]
  },
  {
   "cell_type": "code",
   "execution_count": 12,
   "id": "55304904",
   "metadata": {},
   "outputs": [
    {
     "data": {
      "text/plain": [
       "(377296, 12)"
      ]
     },
     "execution_count": 12,
     "metadata": {},
     "output_type": "execute_result"
    }
   ],
   "source": [
    "#The shape method is called again to confirm the reduction of observations after removing the outliers\n",
    "df.shape"
   ]
  },
  {
   "cell_type": "code",
   "execution_count": 13,
   "id": "3f8bed41",
   "metadata": {},
   "outputs": [
    {
     "data": {
      "text/plain": [
       "0.13935762861318807"
      ]
     },
     "execution_count": 13,
     "metadata": {},
     "output_type": "execute_result"
    }
   ],
   "source": [
    "#As it was noted in the data exploration notebook, the response variable is unbalanced\n",
    "#To address this issue an under/sampling is performed. \n",
    "\n",
    "#first the positive and the negative responses are separated and \n",
    "#the ratio of positive to negative answers is calculated\n",
    "df_positive = df[df.Response == 1]\n",
    "df_negative = df[df.Response == 0]\n",
    "r = len(df_positive)/len(df_negative)\n",
    "r"
   ]
  },
  {
   "cell_type": "code",
   "execution_count": 14,
   "id": "520ae026",
   "metadata": {},
   "outputs": [],
   "source": [
    "#For this model it is wanted that the ratio mentioned above to be 0,5. \n",
    "#The number of observations for the negative responses is then calculated\n",
    "len_negative_wanted = (len(df_positive))/0.5\n",
    "negative_proportion_wanted = len_negative_wanted/(len(df_negative))\n",
    "\n",
    "#Knowing the number of observations wanted, a resampling is performed. \n",
    "df_negative = df_negative.sample(frac = negative_proportion_wanted)"
   ]
  },
  {
   "cell_type": "code",
   "execution_count": 15,
   "id": "2b88792a",
   "metadata": {},
   "outputs": [
    {
     "data": {
      "text/plain": [
       "0.5"
      ]
     },
     "execution_count": 15,
     "metadata": {},
     "output_type": "execute_result"
    }
   ],
   "source": [
    "#the ratio of resonses is then recalculated. \n",
    "r = len(df_positive)/len(df_negative)\n",
    "r"
   ]
  },
  {
   "cell_type": "code",
   "execution_count": 16,
   "id": "1f3fd2a9",
   "metadata": {},
   "outputs": [
    {
     "data": {
      "text/plain": [
       "0    92296\n",
       "1    46148\n",
       "Name: Response, dtype: int64"
      ]
     },
     "execution_count": 16,
     "metadata": {},
     "output_type": "execute_result"
    }
   ],
   "source": [
    "#The datasets are appended again and the value count for the response variable is shown\n",
    "df = df_positive.append(df_negative) \n",
    "df.Response.value_counts()"
   ]
  },
  {
   "cell_type": "code",
   "execution_count": 17,
   "id": "af8ca21a",
   "metadata": {},
   "outputs": [],
   "source": [
    "#the variables that will be used to train the model are separated again from the reponse variable \n",
    "#because a standar scaler will be fit onto them \n",
    "\n",
    "df_X = df[[\"Gender\",\"Age\",\"Driving_License\",\"Region_Code\",\"Previously_Insured\",\"Vehicle_Age\",\"Vehicle_Damage\",\"Annual_Premium\",\"Policy_Sales_Channel\",\"Vintage\"]]"
   ]
  },
  {
   "cell_type": "code",
   "execution_count": 18,
   "id": "3e9627e5",
   "metadata": {},
   "outputs": [
    {
     "data": {
      "text/html": [
       "<div>\n",
       "<style scoped>\n",
       "    .dataframe tbody tr th:only-of-type {\n",
       "        vertical-align: middle;\n",
       "    }\n",
       "\n",
       "    .dataframe tbody tr th {\n",
       "        vertical-align: top;\n",
       "    }\n",
       "\n",
       "    .dataframe thead th {\n",
       "        text-align: right;\n",
       "    }\n",
       "</style>\n",
       "<table border=\"1\" class=\"dataframe\">\n",
       "  <thead>\n",
       "    <tr style=\"text-align: right;\">\n",
       "      <th></th>\n",
       "      <th>Gender</th>\n",
       "      <th>Age</th>\n",
       "      <th>Driving_License</th>\n",
       "      <th>Region_Code</th>\n",
       "      <th>Previously_Insured</th>\n",
       "      <th>Vehicle_Age</th>\n",
       "      <th>Vehicle_Damage</th>\n",
       "      <th>Annual_Premium</th>\n",
       "      <th>Policy_Sales_Channel</th>\n",
       "      <th>Vintage</th>\n",
       "    </tr>\n",
       "  </thead>\n",
       "  <tbody>\n",
       "    <tr>\n",
       "      <th>0</th>\n",
       "      <td>0</td>\n",
       "      <td>44</td>\n",
       "      <td>1</td>\n",
       "      <td>1.0</td>\n",
       "      <td>0</td>\n",
       "      <td>2</td>\n",
       "      <td>1</td>\n",
       "      <td>40454.0</td>\n",
       "      <td>0.0</td>\n",
       "      <td>217</td>\n",
       "    </tr>\n",
       "    <tr>\n",
       "      <th>2</th>\n",
       "      <td>0</td>\n",
       "      <td>47</td>\n",
       "      <td>1</td>\n",
       "      <td>1.0</td>\n",
       "      <td>0</td>\n",
       "      <td>2</td>\n",
       "      <td>1</td>\n",
       "      <td>38294.0</td>\n",
       "      <td>0.0</td>\n",
       "      <td>27</td>\n",
       "    </tr>\n",
       "    <tr>\n",
       "      <th>7</th>\n",
       "      <td>1</td>\n",
       "      <td>56</td>\n",
       "      <td>1</td>\n",
       "      <td>1.0</td>\n",
       "      <td>0</td>\n",
       "      <td>1</td>\n",
       "      <td>1</td>\n",
       "      <td>32031.0</td>\n",
       "      <td>0.0</td>\n",
       "      <td>72</td>\n",
       "    </tr>\n",
       "    <tr>\n",
       "      <th>10</th>\n",
       "      <td>1</td>\n",
       "      <td>47</td>\n",
       "      <td>1</td>\n",
       "      <td>0.0</td>\n",
       "      <td>0</td>\n",
       "      <td>1</td>\n",
       "      <td>1</td>\n",
       "      <td>47576.0</td>\n",
       "      <td>0.0</td>\n",
       "      <td>46</td>\n",
       "    </tr>\n",
       "    <tr>\n",
       "      <th>15</th>\n",
       "      <td>0</td>\n",
       "      <td>37</td>\n",
       "      <td>1</td>\n",
       "      <td>0.0</td>\n",
       "      <td>0</td>\n",
       "      <td>1</td>\n",
       "      <td>1</td>\n",
       "      <td>2630.0</td>\n",
       "      <td>0.0</td>\n",
       "      <td>147</td>\n",
       "    </tr>\n",
       "  </tbody>\n",
       "</table>\n",
       "</div>"
      ],
      "text/plain": [
       "    Gender  Age  Driving_License  Region_Code  Previously_Insured  \\\n",
       "0        0   44                1          1.0                   0   \n",
       "2        0   47                1          1.0                   0   \n",
       "7        1   56                1          1.0                   0   \n",
       "10       1   47                1          0.0                   0   \n",
       "15       0   37                1          0.0                   0   \n",
       "\n",
       "    Vehicle_Age  Vehicle_Damage  Annual_Premium  Policy_Sales_Channel  Vintage  \n",
       "0             2               1         40454.0                   0.0      217  \n",
       "2             2               1         38294.0                   0.0       27  \n",
       "7             1               1         32031.0                   0.0       72  \n",
       "10            1               1         47576.0                   0.0       46  \n",
       "15            1               1          2630.0                   0.0      147  "
      ]
     },
     "execution_count": 18,
     "metadata": {},
     "output_type": "execute_result"
    }
   ],
   "source": [
    "df_X.head()"
   ]
  },
  {
   "cell_type": "code",
   "execution_count": 19,
   "id": "07c4d63d",
   "metadata": {},
   "outputs": [],
   "source": [
    "#The sacaler transformation is fit and the result is an array of the variables\n",
    "sc = StandardScaler()\n",
    "df_X = sc.fit_transform(df_X)"
   ]
  },
  {
   "cell_type": "code",
   "execution_count": 20,
   "id": "ca969141",
   "metadata": {},
   "outputs": [
    {
     "name": "stdout",
     "output_type": "stream",
     "text": [
      "[[-0.8916744   0.27902194  0.04261808 ...  0.66482597 -0.64024777\n",
      "   0.74782855]\n",
      " [-0.8916744   0.48055638  0.04261808 ...  0.52664974 -0.64024777\n",
      "  -1.52296321]\n",
      " [ 1.1214856   1.08515971  0.04261808 ...  0.12600265 -0.64024777\n",
      "  -0.98514411]\n",
      " ...\n",
      " [ 1.1214856  -1.06454102  0.04261808 ... -0.11151973  1.56189533\n",
      "   1.22588997]\n",
      " [-0.8916744  -0.12404695  0.04261808 ...  0.97757762 -0.64024777\n",
      "  -1.54686628]\n",
      " [-0.8916744  -1.13171917  0.04261808 ... -1.75479332 -0.64024777\n",
      "   1.04661694]]\n"
     ]
    }
   ],
   "source": [
    "print(df_X)"
   ]
  },
  {
   "cell_type": "code",
   "execution_count": 21,
   "id": "9bb2096f",
   "metadata": {},
   "outputs": [],
   "source": [
    "#the response variable is also cnverted to an array.\n",
    "df_Y = df.Response.to_numpy()"
   ]
  },
  {
   "cell_type": "code",
   "execution_count": 22,
   "id": "e8296eb6",
   "metadata": {},
   "outputs": [
    {
     "data": {
      "text/plain": [
       "array([1, 1, 1, ..., 0, 0, 0])"
      ]
     },
     "execution_count": 22,
     "metadata": {},
     "output_type": "execute_result"
    }
   ],
   "source": [
    "df_Y"
   ]
  },
  {
   "cell_type": "code",
   "execution_count": 23,
   "id": "5f8d926a",
   "metadata": {},
   "outputs": [],
   "source": [
    "#Using the train test split function imported from sklearn\n",
    "#the train and test datasets are created by a random stratified sample.\n",
    "#the test set is 10% of the dataset. \n",
    "X_train,X_test,y_train,y_test = train_test_split(df_X,df_Y,test_size=.10,random_state=1,stratify=df_Y)"
   ]
  },
  {
   "cell_type": "code",
   "execution_count": 24,
   "id": "ee97e221",
   "metadata": {},
   "outputs": [],
   "source": [
    "#The test sets are separated. The test(X) set will be uploaded to s3 to be used for predictions\n",
    "#While the test_y is saved to compare the predictions later on. \n",
    "\n",
    "test_y = pd.DataFrame(y_test)\n",
    "test = pd.DataFrame(X_test)\n",
    "\n",
    "#the train datasets are merged into a single set, with the response in the first column as it is needed \n",
    "#by the xgb algorithm.\n",
    "train = pd.concat([pd.DataFrame(y_train),pd.DataFrame(X_train)],axis = 1)\n",
    "\n",
    "#Out of the train dataset a 20% proportion is taken as a validation dataset. This one will be provided\n",
    "#directly to the algorithm so it can minimize the training. \n",
    "n = round(len(train)*0.2)\n",
    "validation = train[:n]\n",
    "train = train[n:]"
   ]
  },
  {
   "cell_type": "code",
   "execution_count": 54,
   "id": "fd50ca5a",
   "metadata": {},
   "outputs": [],
   "source": [
    "#Finally, all datasets are saved into the local directory.\n",
    "test.to_csv(\"processed_data/test.csv\", header=False, index=False)\n",
    "validation.to_csv(\"processed_data/validation.csv\", header=False, index=False)\n",
    "train.to_csv(\"processed_data/train.csv\", header=False, index=False)\n",
    "test_y.to_csv(\"processed_data/test_y.csv\", header=False, index=False)"
   ]
  }
 ],
 "metadata": {
  "kernelspec": {
   "display_name": "conda_python3",
   "language": "python",
   "name": "conda_python3"
  },
  "language_info": {
   "codemirror_mode": {
    "name": "ipython",
    "version": 3
   },
   "file_extension": ".py",
   "mimetype": "text/x-python",
   "name": "python",
   "nbconvert_exporter": "python",
   "pygments_lexer": "ipython3",
   "version": "3.6.13"
  }
 },
 "nbformat": 4,
 "nbformat_minor": 5
}
